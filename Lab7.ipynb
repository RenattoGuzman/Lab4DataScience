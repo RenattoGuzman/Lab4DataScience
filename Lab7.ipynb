{
 "cells": [
  {
   "cell_type": "code",
   "execution_count": 51,
   "metadata": {},
   "outputs": [],
   "source": [
    "import json\n",
    "import pandas as pd\n",
    "import re"
   ]
  },
  {
   "cell_type": "code",
   "execution_count": 52,
   "metadata": {},
   "outputs": [],
   "source": [
    "with open('tioberny.txt', 'r', encoding='utf-16') as file:\n",
    "    tweets = [json.loads(line) for line in file]\n",
    "\n",
    "tioberny_tweets = pd.DataFrame(tweets)"
   ]
  },
  {
   "cell_type": "code",
   "execution_count": 53,
   "metadata": {},
   "outputs": [],
   "source": [
    "with open('traficogt.txt', 'r', encoding='utf-16') as file:\n",
    "    tweets = [json.loads(line) for line in file]\n",
    "\n",
    "traficogt_tweets = pd.DataFrame(tweets)\n"
   ]
  },
  {
   "cell_type": "code",
   "execution_count": 54,
   "metadata": {},
   "outputs": [
    {
     "name": "stdout",
     "output_type": "stream",
     "text": [
      "Index(['id', 'id_str', 'url', 'date', 'user', 'lang', 'rawContent',\n",
      "       'replyCount', 'retweetCount', 'likeCount', 'quoteCount',\n",
      "       'bookmarkedCount', 'conversationId', 'conversationIdStr', 'hashtags',\n",
      "       'cashtags', 'mentionedUsers', 'links', 'viewCount', 'retweetedTweet',\n",
      "       'quotedTweet', 'place', 'coordinates', 'inReplyToTweetId',\n",
      "       'inReplyToTweetIdStr', 'inReplyToUser', 'source', 'sourceUrl',\n",
      "       'sourceLabel', 'media', 'card', '_type'],\n",
      "      dtype='object')\n",
      "Index(['id', 'id_str', 'url', 'date', 'user', 'lang', 'rawContent',\n",
      "       'replyCount', 'retweetCount', 'likeCount', 'quoteCount',\n",
      "       'bookmarkedCount', 'conversationId', 'conversationIdStr', 'hashtags',\n",
      "       'cashtags', 'mentionedUsers', 'links', 'viewCount', 'retweetedTweet',\n",
      "       'quotedTweet', 'place', 'coordinates', 'inReplyToTweetId',\n",
      "       'inReplyToTweetIdStr', 'inReplyToUser', 'source', 'sourceUrl',\n",
      "       'sourceLabel', 'media', 'card', '_type'],\n",
      "      dtype='object')\n"
     ]
    }
   ],
   "source": [
    "print(tioberny_tweets.columns)\n",
    "print(traficogt_tweets.columns)\n"
   ]
  },
  {
   "cell_type": "markdown",
   "metadata": {},
   "source": [
    "Convertir a minúsculas"
   ]
  },
  {
   "cell_type": "code",
   "execution_count": 55,
   "metadata": {},
   "outputs": [],
   "source": [
    "tioberny_tweets['rawContent'] = tioberny_tweets['rawContent'].str.lower()\n",
    "traficogt_tweets['rawContent'] = traficogt_tweets['rawContent'].str.lower()\n"
   ]
  },
  {
   "cell_type": "markdown",
   "metadata": {},
   "source": [
    "Quitar URLs"
   ]
  },
  {
   "cell_type": "code",
   "execution_count": 56,
   "metadata": {},
   "outputs": [],
   "source": [
    "def remove_urls(text):\n",
    "    return re.sub(r'http\\S+|www\\S+|https\\S+', '', text, flags=re.MULTILINE)\n",
    "\n",
    "tioberny_tweets['rawContent'] = tioberny_tweets['rawContent'].apply(remove_urls)\n",
    "traficogt_tweets['rawContent'] = traficogt_tweets['rawContent'].apply(remove_urls)\n"
   ]
  },
  {
   "cell_type": "markdown",
   "metadata": {},
   "source": [
    "Quitar emoticones"
   ]
  },
  {
   "cell_type": "code",
   "execution_count": 57,
   "metadata": {},
   "outputs": [],
   "source": [
    "def remove_emoticons(text):\n",
    "    return re.sub(r'[^\\w\\s]', '', text)\n",
    "\n",
    "tioberny_tweets['rawContent'] = tioberny_tweets['rawContent'].apply(remove_emoticons)\n",
    "traficogt_tweets['rawContent'] = traficogt_tweets['rawContent'].apply(remove_emoticons)\n"
   ]
  },
  {
   "cell_type": "markdown",
   "metadata": {},
   "source": [
    "Quitar signos de puntuación (exceptuando \"@\" y \"#\")"
   ]
  },
  {
   "cell_type": "code",
   "execution_count": 60,
   "metadata": {},
   "outputs": [],
   "source": [
    "tioberny_tweets['rawContent'] = tioberny_tweets['rawContent'].str.replace(r'[^\\w\\s@#]', '', regex=True)\n",
    "traficogt_tweets['rawContent'] = traficogt_tweets['rawContent'].str.replace(r'[^\\w\\s@#]', '', regex=True)\n"
   ]
  },
  {
   "cell_type": "code",
   "execution_count": 61,
   "metadata": {},
   "outputs": [],
   "source": [
    "# Crear listas para almacenar las interacciones\n",
    "interactions = []\n",
    "\n",
    "for index, row in tioberny_tweets.iterrows():\n",
    "    user_id = row['user']['id_str']\n",
    "    text = row['rawContent']\n",
    "    \n",
    "    # Extraer menciones\n",
    "    mentions = re.findall(r'@(\\w+)', text)  # Extraer nombres de usuario mencionados\n",
    "    mentions = [mention.lower() for mention in mentions]  # Normalizar\n",
    "    \n",
    "    # Comprobar si es una respuesta o un retweet\n",
    "    is_reply = row['inReplyToUser'] is not None\n",
    "    is_retweet = row['retweetedTweet'] is not None\n",
    "\n",
    "    interactions.append({\n",
    "        'user_id': user_id,\n",
    "        'mentions': mentions,\n",
    "        'is_reply': is_reply,\n",
    "        'is_retweet': is_retweet,\n",
    "        'text': text\n",
    "    })\n",
    "\n",
    "interactions_df = pd.DataFrame(interactions)\n"
   ]
  },
  {
   "cell_type": "code",
   "execution_count": 62,
   "metadata": {},
   "outputs": [],
   "source": [
    "# Eliminar duplicados\n",
    "interactions_df.drop_duplicates(subset=['user_id', 'text'], inplace=True)\n",
    "\n",
    "# Normalizar menciones\n",
    "interactions_df['mentions'] = interactions_df['mentions'].apply(lambda x: [mention.lower() for mention in x])\n"
   ]
  },
  {
   "cell_type": "code",
   "execution_count": 64,
   "metadata": {},
   "outputs": [
    {
     "name": "stdout",
     "output_type": "stream",
     "text": [
      "Collecting networkx\n",
      "  Downloading networkx-3.3-py3-none-any.whl.metadata (5.1 kB)\n",
      "Downloading networkx-3.3-py3-none-any.whl (1.7 MB)\n",
      "   ---------------------------------------- 0.0/1.7 MB ? eta -:--:--\n",
      "   ------------ --------------------------- 0.5/1.7 MB 4.2 MB/s eta 0:00:01\n",
      "   ---------------------------------------- 1.7/1.7 MB 7.1 MB/s eta 0:00:00\n",
      "Installing collected packages: networkx\n",
      "Successfully installed networkx-3.3\n"
     ]
    }
   ],
   "source": [
    "!pip install networkx"
   ]
  },
  {
   "cell_type": "code",
   "execution_count": 63,
   "metadata": {},
   "outputs": [
    {
     "ename": "ModuleNotFoundError",
     "evalue": "No module named 'networkx'",
     "output_type": "error",
     "traceback": [
      "\u001b[1;31m---------------------------------------------------------------------------\u001b[0m",
      "\u001b[1;31mModuleNotFoundError\u001b[0m                       Traceback (most recent call last)",
      "Cell \u001b[1;32mIn[63], line 1\u001b[0m\n\u001b[1;32m----> 1\u001b[0m \u001b[38;5;28;01mimport\u001b[39;00m \u001b[38;5;21;01mnetworkx\u001b[39;00m \u001b[38;5;28;01mas\u001b[39;00m \u001b[38;5;21;01mnx\u001b[39;00m\n\u001b[0;32m      3\u001b[0m \u001b[38;5;66;03m# Crear un grafo dirigido\u001b[39;00m\n\u001b[0;32m      4\u001b[0m G \u001b[38;5;241m=\u001b[39m nx\u001b[38;5;241m.\u001b[39mDiGraph()\n",
      "\u001b[1;31mModuleNotFoundError\u001b[0m: No module named 'networkx'"
     ]
    }
   ],
   "source": [
    "import networkx as nx\n",
    "\n",
    "# Crear un grafo dirigido\n",
    "G = nx.DiGraph()\n",
    "\n",
    "# Agregar nodos y aristas\n",
    "for _, row in interactions_df.iterrows():\n",
    "    user_id = row['user_id']\n",
    "    mentions = row['mentions']\n",
    "    \n",
    "    # Añadir nodo para el usuario\n",
    "    if not G.has_node(user_id):\n",
    "        G.add_node(user_id)\n",
    "\n",
    "    # Añadir aristas por cada mención\n",
    "    for mention in mentions:\n",
    "        G.add_edge(user_id, mention)  # Interacción dirigida\n",
    "\n",
    "# Convertir a una matriz de adyacencia si es necesario\n",
    "adjacency_matrix = nx.to_numpy_array(G)\n"
   ]
  }
 ],
 "metadata": {
  "kernelspec": {
   "display_name": "Python 3",
   "language": "python",
   "name": "python3"
  },
  "language_info": {
   "codemirror_mode": {
    "name": "ipython",
    "version": 3
   },
   "file_extension": ".py",
   "mimetype": "text/x-python",
   "name": "python",
   "nbconvert_exporter": "python",
   "pygments_lexer": "ipython3",
   "version": "3.10.11"
  }
 },
 "nbformat": 4,
 "nbformat_minor": 2
}
